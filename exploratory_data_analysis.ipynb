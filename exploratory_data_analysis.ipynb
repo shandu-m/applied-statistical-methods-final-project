{
 "cells": [
  {
   "cell_type": "markdown",
   "metadata": {},
   "source": [
    "# Exploratory Data Analysis\n",
    "\n",
    "This notebook contains my exploratory data analysis of the SEER data and is split into the following sections:\n",
    "\n",
    "### 1. [Setup](#setup)\n",
    "\n",
    "### 2. [Extract Data from Raw Text File](#extract)\n",
    "\n",
    "### 3. [Data Summary](#summary)\n",
    "\n",
    "### 4. [Incidence by state and county](#state-county)\n",
    "\n",
    "### 5. [*Exploring an aspect a skeptic would worry about*: Incidence by race group](#race)\n",
    "\n",
    "\n",
    "***\n",
    "<a id=\"setup\"></a>\n",
    "## 1. Setup"
   ]
  },
  {
   "cell_type": "code",
   "execution_count": 1,
   "metadata": {},
   "outputs": [],
   "source": [
    "import numpy as np\n",
    "import pandas as pd\n",
    "import os\n",
    "import us\n",
    "from matplotlib import pyplot as plt\n",
    "from collections import Counter"
   ]
  },
  {
   "cell_type": "code",
   "execution_count": 2,
   "metadata": {},
   "outputs": [],
   "source": [
    "color_palette = {0:\"#f8f8ff\", 1:\"#ffe4e1\", 2:\"#ffa07a\", 3:\"#e9967a\", 4:\"#fa8072\", 5:\"#cd5c5c\", 6:\"#b22222\", 7:\"#8b0000\"}"
   ]
  },
  {
   "cell_type": "code",
   "execution_count": 3,
   "metadata": {},
   "outputs": [],
   "source": [
    "# project data directory\n",
    "data_dir = '/Users/shandu/Documents/2019_Fall/statistics/final-project/data/'"
   ]
  },
  {
   "cell_type": "code",
   "execution_count": 4,
   "metadata": {},
   "outputs": [],
   "source": [
    "# file with raw breast cancer data\n",
    "breast_cancer_file = data_dir + 'SEER_1975_2016_TEXTDATA/incidence/yr1975_2016.seer9/BREAST.TXT'\n",
    "\n",
    "# file with parameters used in SAS data processing\n",
    "params_file = data_dir + 'sas-dataprocessing-parameters.txt'"
   ]
  },
  {
   "cell_type": "markdown",
   "metadata": {},
   "source": [
    "<a id=\"extract\"></a>\n",
    "## 2.  Extract Data from Raw Text File\n",
    "\n",
    "All of the breast cancer incidence data are stored in a single text file which cannot be read by `pandas.read_csv()`. So I have parsed the data manually, using parameters from a file for SAS processing of these data (`\"sas-dataprocessing-parameters.txt\"`).\n",
    "\n",
    "This large text file was divided into 100 smaller files which were then each parsed and converted into dataframe."
   ]
  },
  {
   "cell_type": "code",
   "execution_count": 5,
   "metadata": {},
   "outputs": [],
   "source": [
    "### Obtain start indices, column names and data lengths #\n",
    "  # for the datapoints in each column ###\n",
    "\n",
    "char_ixs = [] #stores the start indices for each datapoint in each column\n",
    "sas_names = [] #stores the column names used in SAS processing code\n",
    "data_lengths = [] #stores the lengths of datapoints in specific columns\n",
    "naaccr_names = [] #stores the NAACCR name for the column\n",
    "\n",
    "with open(params_file, 'r') as in_f:\n",
    "    \n",
    "    line = in_f.readline()\n",
    "    \n",
    "    while line:\n",
    "        \n",
    "        if '@' in line:\n",
    " \n",
    "            line = line.strip().split('@ ')\n",
    "            line_components = [comp for comp in line[1].split(' ') if comp != '']\n",
    "            \n",
    "            char_i = int(line_components[0])\n",
    "            char_ixs.append(char_i-1) #subtract 1 because of 0-indexing\n",
    "            \n",
    "            sas_n = line_components[1]\n",
    "            sas_names.append(sas_n)\n",
    "            \n",
    "            data_length = int(line_components[2].split('$char')[1].split('.')[0])\n",
    "            data_lengths.append(data_length)\n",
    "            \n",
    "            naaccr_n = line[1].split('/* ')[1].strip(' */')\n",
    "            naaccr_names.append(naaccr_n)  \n",
    "            \n",
    "        line = in_f.readline()"
   ]
  },
  {
   "cell_type": "code",
   "execution_count": 6,
   "metadata": {},
   "outputs": [
    {
     "data": {
      "text/plain": [
       "(143, 143, 143, 143)"
      ]
     },
     "execution_count": 6,
     "metadata": {},
     "output_type": "execute_result"
    }
   ],
   "source": [
    "len(char_ixs), len(sas_names), len(data_lengths), len(naaccr_names)"
   ]
  },
  {
   "cell_type": "code",
   "execution_count": 7,
   "metadata": {},
   "outputs": [],
   "source": [
    "naaccr_names[-1] = naaccr_names[-1].strip(' */     ;') #remove end of file formatting"
   ]
  },
  {
   "cell_type": "code",
   "execution_count": 8,
   "metadata": {},
   "outputs": [],
   "source": [
    "column_name_map = {sas_names[i]:naaccr_names[i] for i in range(len(sas_names))}"
   ]
  },
  {
   "cell_type": "code",
   "execution_count": 9,
   "metadata": {},
   "outputs": [],
   "source": [
    "# store data structures for later use\n",
    "#pd.Series(char_ixs).to_pickle(data_dir+'pickles/char_ixs.pkl')\n",
    "#pd.Series(sas_names).to_pickle(data_dir+'pickles/sas_names.pkl')\n",
    "#pd.Series(data_lengths).to_pickle(data_dir+'pickles/data_lengths.pkl')\n",
    "#pd.Series(naaccr_names).to_pickle(data_dir+'pickles/naaccr_names.pkl')\n",
    "#pd.Series(column_name_map).to_pickle(data_dir+'pickles/column_name_map.pkl')"
   ]
  },
  {
   "cell_type": "code",
   "execution_count": 10,
   "metadata": {},
   "outputs": [],
   "source": [
    "# read in pickled files\n",
    "char_ixs = list(pd.read_pickle(data_dir+'pickles/char_ixs.pkl'))\n",
    "sas_names = list(pd.read_pickle(data_dir+'pickles/sas_names.pkl'))\n",
    "data_lengths = list(pd.read_pickle(data_dir+'pickles/data_lengths.pkl'))\n",
    "naaccr_names = list(pd.read_pickle(data_dir+'pickles/naaccr_names.pkl'))\n",
    "column_name_map = dict(pd.read_pickle(data_dir+'pickles/column_name_map.pkl'))"
   ]
  },
  {
   "cell_type": "code",
   "execution_count": 11,
   "metadata": {},
   "outputs": [],
   "source": [
    "### Cut raw data into chunks ###\n",
    "file_size = 840666\n",
    "c_size = 8406\n",
    "num_files = 100\n",
    "\n",
    "output_dir = data_dir + 'raw_data_chunks/'"
   ]
  },
  {
   "cell_type": "code",
   "execution_count": null,
   "metadata": {},
   "outputs": [
    {
     "name": "stdout",
     "output_type": "stream",
     "text": [
      "num files created: 0 10 "
     ]
    }
   ],
   "source": [
    "print(\"num files created:\", end=\" \")\n",
    "end = c_size\n",
    "\n",
    "for i in range(num_files):\n",
    "    \n",
    "    os.system('head -'+str(end)+' '+breast_cancer_file+' | tail -'+str(c_size)+' > '+output_dir+'breast'+str(i)+'.txt')\n",
    "    \n",
    "    end = end + c_size\n",
    "    if i%10 == 0:\n",
    "        print(i, end=\" \")\n",
    "\n",
    "i = 100\n",
    "print(i)\n",
    "os.system('head -'+str(file_size)+' '+breast_cancer_file+' | tail -'+str(file_size-(end-c_size))+' > '+output_dir+'breast'+str(i)+'.txt')"
   ]
  },
  {
   "cell_type": "code",
   "execution_count": null,
   "metadata": {},
   "outputs": [],
   "source": [
    "all_raw_files = os.listdir(data_dir+'/raw_data_chunks/')\n",
    "output_dir = data_dir + 'raw_data_pickles/'"
   ]
  },
  {
   "cell_type": "code",
   "execution_count": null,
   "metadata": {
    "scrolled": false
   },
   "outputs": [],
   "source": [
    "### Convert raw data into dataframes pickle files ###\n",
    "\n",
    "print(\"files completed:\", end=\" \")\n",
    "\n",
    "for file_i in range(90,101):\n",
    "        \n",
    "    cur_file = data_dir + '/raw_data_chunks/breast' + str(file_i) + '.txt'\n",
    "    \n",
    "    line_count = 0\n",
    "    df_num = 0\n",
    "    df = pd.DataFrame(columns=sas_names)\n",
    "    df_i = 0\n",
    "    \n",
    "    with open(cur_file, 'r') as in_f:\n",
    "\n",
    "        line = in_f.readline().strip()\n",
    "        \n",
    "        while line:\n",
    "            \n",
    "            if line_count > 1000:\n",
    "\n",
    "                df.to_pickle(output_dir+'breast'+str(file_i)+'-'+str(df_num)+'.pkl')\n",
    "                \n",
    "                line_count = 0\n",
    "                del df\n",
    "                df_num += 1\n",
    "                df = pd.DataFrame(columns=sas_names)\n",
    "                df_i = 0\n",
    "            \n",
    "            line_count += 1\n",
    "            row_entry = []\n",
    "            for i in range(len(char_ixs)):\n",
    "                start = char_ixs[i]\n",
    "                length = data_lengths[i]\n",
    "                \n",
    "                data = line[start:start+length]\n",
    "                if \" \" in data:\n",
    "                    data = np.nan #deal with missing data\n",
    "                row_entry.append(data)\n",
    "            df.loc[df_i, :] = row_entry\n",
    "            df_i += 1\n",
    "            \n",
    "            line = in_f.readline().strip()\n",
    "            \n",
    "        # no more lines\n",
    "        # final file has fewer than 1000 lines\n",
    "        df.to_pickle(output_dir+'breast'+str(file_i)+'-'+str(df_num)+'.pkl')\n",
    "            \n",
    "    \n",
    "    print(file_i, end=\" \")\n",
    "\n"
   ]
  },
  {
   "cell_type": "markdown",
   "metadata": {},
   "source": [
    "<a id=\"summary\"></a>\n",
    "## 3. Data Summary\n",
    "\n",
    "The record description file for the SEER data can be found [here](https://seer.cancer.gov/data-software/documentation/seerstat/nov2018/TextData.FileDescription.pdf).\n",
    "\n",
    "- Time period (for years of diagnosis): 1975 to 2016\n",
    "- Number of records: 840 666\n",
    "- Number of datapoints: 143\n",
    "- Data come from SEER registries in the following states: Connecticut, New Mexico, Washington, Hawaii, Georgia, California, Michigan, Utah and Iowa.\n",
    "\n",
    "consistent with report on data found here\n",
    "All code used to produce these statistics can be found below."
   ]
  },
  {
   "cell_type": "code",
   "execution_count": 5,
   "metadata": {},
   "outputs": [
    {
     "data": {
      "text/html": [
       "<div>\n",
       "<style scoped>\n",
       "    .dataframe tbody tr th:only-of-type {\n",
       "        vertical-align: middle;\n",
       "    }\n",
       "\n",
       "    .dataframe tbody tr th {\n",
       "        vertical-align: top;\n",
       "    }\n",
       "\n",
       "    .dataframe thead th {\n",
       "        text-align: right;\n",
       "    }\n",
       "</style>\n",
       "<table border=\"1\" class=\"dataframe\">\n",
       "  <thead>\n",
       "    <tr style=\"text-align: right;\">\n",
       "      <th></th>\n",
       "      <th>sas</th>\n",
       "      <th>naaccr</th>\n",
       "    </tr>\n",
       "  </thead>\n",
       "  <tbody>\n",
       "    <tr>\n",
       "      <th>0</th>\n",
       "      <td>PUBCSNUM</td>\n",
       "      <td>Patient ID</td>\n",
       "    </tr>\n",
       "    <tr>\n",
       "      <th>1</th>\n",
       "      <td>REG</td>\n",
       "      <td>SEER registry</td>\n",
       "    </tr>\n",
       "    <tr>\n",
       "      <th>2</th>\n",
       "      <td>MAR_STAT</td>\n",
       "      <td>Marital status at diagnosis</td>\n",
       "    </tr>\n",
       "    <tr>\n",
       "      <th>3</th>\n",
       "      <td>RACE1V</td>\n",
       "      <td>Race/ethnicity</td>\n",
       "    </tr>\n",
       "    <tr>\n",
       "      <th>4</th>\n",
       "      <td>NHIADE</td>\n",
       "      <td>NHIA Derived Hisp Origin</td>\n",
       "    </tr>\n",
       "    <tr>\n",
       "      <th>5</th>\n",
       "      <td>SEX</td>\n",
       "      <td>Sex</td>\n",
       "    </tr>\n",
       "    <tr>\n",
       "      <th>6</th>\n",
       "      <td>AGE_DX</td>\n",
       "      <td>Age at diagnosis</td>\n",
       "    </tr>\n",
       "    <tr>\n",
       "      <th>7</th>\n",
       "      <td>YR_BRTH</td>\n",
       "      <td>Year of birth</td>\n",
       "    </tr>\n",
       "    <tr>\n",
       "      <th>8</th>\n",
       "      <td>SEQ_NUM</td>\n",
       "      <td>Sequence number</td>\n",
       "    </tr>\n",
       "    <tr>\n",
       "      <th>9</th>\n",
       "      <td>MDXRECMP</td>\n",
       "      <td>Month of diagnosis</td>\n",
       "    </tr>\n",
       "    <tr>\n",
       "      <th>10</th>\n",
       "      <td>YEAR_DX</td>\n",
       "      <td>Year of diagnosis</td>\n",
       "    </tr>\n",
       "    <tr>\n",
       "      <th>11</th>\n",
       "      <td>PRIMSITE</td>\n",
       "      <td>Primary site ICD-O-2 (1973+)</td>\n",
       "    </tr>\n",
       "    <tr>\n",
       "      <th>12</th>\n",
       "      <td>LATERAL</td>\n",
       "      <td>Laterality</td>\n",
       "    </tr>\n",
       "    <tr>\n",
       "      <th>13</th>\n",
       "      <td>HISTO2V</td>\n",
       "      <td>Histologic Type ICD-O-2</td>\n",
       "    </tr>\n",
       "    <tr>\n",
       "      <th>14</th>\n",
       "      <td>BEHO2V</td>\n",
       "      <td>Behavior Code ICD-O-2</td>\n",
       "    </tr>\n",
       "    <tr>\n",
       "      <th>15</th>\n",
       "      <td>HISTO3V</td>\n",
       "      <td>Histologic Type ICD-O-3</td>\n",
       "    </tr>\n",
       "    <tr>\n",
       "      <th>16</th>\n",
       "      <td>BEHO3V</td>\n",
       "      <td>Behavior code ICD-O-3</td>\n",
       "    </tr>\n",
       "    <tr>\n",
       "      <th>17</th>\n",
       "      <td>GRADE</td>\n",
       "      <td>Grade</td>\n",
       "    </tr>\n",
       "    <tr>\n",
       "      <th>18</th>\n",
       "      <td>DX_CONF</td>\n",
       "      <td>Diagnostic confirmation</td>\n",
       "    </tr>\n",
       "    <tr>\n",
       "      <th>19</th>\n",
       "      <td>REPT_SRC</td>\n",
       "      <td>Type of reporting source</td>\n",
       "    </tr>\n",
       "    <tr>\n",
       "      <th>20</th>\n",
       "      <td>EOD10_SZ</td>\n",
       "      <td>EOD 10 - size (1988+)</td>\n",
       "    </tr>\n",
       "    <tr>\n",
       "      <th>21</th>\n",
       "      <td>EOD10_EX</td>\n",
       "      <td>EOD 10 - extension</td>\n",
       "    </tr>\n",
       "    <tr>\n",
       "      <th>22</th>\n",
       "      <td>EOD10_PE</td>\n",
       "      <td>EOD 10 - path extension</td>\n",
       "    </tr>\n",
       "    <tr>\n",
       "      <th>23</th>\n",
       "      <td>EOD10_ND</td>\n",
       "      <td>EOD 10 - lymph node</td>\n",
       "    </tr>\n",
       "    <tr>\n",
       "      <th>24</th>\n",
       "      <td>EOD10_PN</td>\n",
       "      <td>EOD 10 - positive lymph nodes examined</td>\n",
       "    </tr>\n",
       "    <tr>\n",
       "      <th>25</th>\n",
       "      <td>EOD10_NE</td>\n",
       "      <td>EOD 10 - number of lymph nodes examined</td>\n",
       "    </tr>\n",
       "    <tr>\n",
       "      <th>26</th>\n",
       "      <td>EOD13</td>\n",
       "      <td>EOD--old 13 digit</td>\n",
       "    </tr>\n",
       "    <tr>\n",
       "      <th>27</th>\n",
       "      <td>EOD2</td>\n",
       "      <td>EOD--old 2 digit</td>\n",
       "    </tr>\n",
       "    <tr>\n",
       "      <th>28</th>\n",
       "      <td>EOD4</td>\n",
       "      <td>EOD--old 4 digit</td>\n",
       "    </tr>\n",
       "    <tr>\n",
       "      <th>29</th>\n",
       "      <td>EOD_CODE</td>\n",
       "      <td>Coding system for EOD</td>\n",
       "    </tr>\n",
       "    <tr>\n",
       "      <th>...</th>\n",
       "      <td>...</td>\n",
       "      <td>...</td>\n",
       "    </tr>\n",
       "    <tr>\n",
       "      <th>113</th>\n",
       "      <td>ADJTM_6VALUE</td>\n",
       "      <td>Adjusted AJCC 6th T (1988+)</td>\n",
       "    </tr>\n",
       "    <tr>\n",
       "      <th>114</th>\n",
       "      <td>ADJNM_6VALUE</td>\n",
       "      <td>Adjusted AJCC 6th N (1988+)</td>\n",
       "    </tr>\n",
       "    <tr>\n",
       "      <th>115</th>\n",
       "      <td>ADJM_6VALUE</td>\n",
       "      <td>Adjusted AJCC 6th M (1988+)</td>\n",
       "    </tr>\n",
       "    <tr>\n",
       "      <th>116</th>\n",
       "      <td>ADJAJCCSTG</td>\n",
       "      <td>Adjusted AJCC 6th Stage (1988+)</td>\n",
       "    </tr>\n",
       "    <tr>\n",
       "      <th>117</th>\n",
       "      <td>CS7SITE</td>\n",
       "      <td>CS Site-Specific Factor 7</td>\n",
       "    </tr>\n",
       "    <tr>\n",
       "      <th>118</th>\n",
       "      <td>CS9SITE</td>\n",
       "      <td>CS Site-specific Factor 9</td>\n",
       "    </tr>\n",
       "    <tr>\n",
       "      <th>119</th>\n",
       "      <td>CS12SITE</td>\n",
       "      <td>CS Site-Specific Factor 12</td>\n",
       "    </tr>\n",
       "    <tr>\n",
       "      <th>120</th>\n",
       "      <td>HER2</td>\n",
       "      <td>Derived HER2 Recode (2010+)</td>\n",
       "    </tr>\n",
       "    <tr>\n",
       "      <th>121</th>\n",
       "      <td>BRST_SUB</td>\n",
       "      <td>Breast Subtype (2010+)</td>\n",
       "    </tr>\n",
       "    <tr>\n",
       "      <th>122</th>\n",
       "      <td>ANNARBOR</td>\n",
       "      <td>Lymphoma - Ann Arbor Stage (1983+)</td>\n",
       "    </tr>\n",
       "    <tr>\n",
       "      <th>123</th>\n",
       "      <td>SCMETSDXB_PUB</td>\n",
       "      <td>SEER Combined Mets at DX-bone (2010+)</td>\n",
       "    </tr>\n",
       "    <tr>\n",
       "      <th>124</th>\n",
       "      <td>SCMETSDXBR_PUB</td>\n",
       "      <td>SEER Combined Mets at DX-brain (2010+)</td>\n",
       "    </tr>\n",
       "    <tr>\n",
       "      <th>125</th>\n",
       "      <td>SCMETSDXLIV_PUB</td>\n",
       "      <td>SEER Combined Mets at DX-liver (2010+)</td>\n",
       "    </tr>\n",
       "    <tr>\n",
       "      <th>126</th>\n",
       "      <td>SCMETSDXLUNG_PUB</td>\n",
       "      <td>SEER Combined Mets at DX-lung (2010+)</td>\n",
       "    </tr>\n",
       "    <tr>\n",
       "      <th>127</th>\n",
       "      <td>T_VALUE</td>\n",
       "      <td>T value - based on AJCC 3rd (1988-2003)</td>\n",
       "    </tr>\n",
       "    <tr>\n",
       "      <th>128</th>\n",
       "      <td>N_VALUE</td>\n",
       "      <td>N value - based on AJCC 3rd (1988-2003)</td>\n",
       "    </tr>\n",
       "    <tr>\n",
       "      <th>129</th>\n",
       "      <td>M_VALUE</td>\n",
       "      <td>M value - based on AJCC 3rd (1988-2003)</td>\n",
       "    </tr>\n",
       "    <tr>\n",
       "      <th>130</th>\n",
       "      <td>MALIGCOUNT</td>\n",
       "      <td>Total number of in situ/malignant tumors for p...</td>\n",
       "    </tr>\n",
       "    <tr>\n",
       "      <th>131</th>\n",
       "      <td>BENBORDCOUNT</td>\n",
       "      <td>Total number of benign/borderline tumors for p...</td>\n",
       "    </tr>\n",
       "    <tr>\n",
       "      <th>132</th>\n",
       "      <td>TUMSIZS</td>\n",
       "      <td>Tumor Size Summary (2016+)</td>\n",
       "    </tr>\n",
       "    <tr>\n",
       "      <th>133</th>\n",
       "      <td>DSRPSG</td>\n",
       "      <td>Derived SEER Cmb Stg Grp (2016+)</td>\n",
       "    </tr>\n",
       "    <tr>\n",
       "      <th>134</th>\n",
       "      <td>DASRCT</td>\n",
       "      <td>Derived SEER Combined T (2016+)</td>\n",
       "    </tr>\n",
       "    <tr>\n",
       "      <th>135</th>\n",
       "      <td>DASRCN</td>\n",
       "      <td>Derived SEER Combined N (2016+)</td>\n",
       "    </tr>\n",
       "    <tr>\n",
       "      <th>136</th>\n",
       "      <td>DASRCM</td>\n",
       "      <td>Derived SEER Combined M (2016+)</td>\n",
       "    </tr>\n",
       "    <tr>\n",
       "      <th>137</th>\n",
       "      <td>DASRCTS</td>\n",
       "      <td>Derived SEER Combined T Src (2016+)</td>\n",
       "    </tr>\n",
       "    <tr>\n",
       "      <th>138</th>\n",
       "      <td>DASRCNS</td>\n",
       "      <td>Derived SEER Combined N Src (2016+)</td>\n",
       "    </tr>\n",
       "    <tr>\n",
       "      <th>139</th>\n",
       "      <td>DASRCMS</td>\n",
       "      <td>Derived SEER Combined M Src (2016+)</td>\n",
       "    </tr>\n",
       "    <tr>\n",
       "      <th>140</th>\n",
       "      <td>TNMEDNUM</td>\n",
       "      <td>TNM Edition Number (2016+)</td>\n",
       "    </tr>\n",
       "    <tr>\n",
       "      <th>141</th>\n",
       "      <td>METSDXLN</td>\n",
       "      <td>Mets at DX-Distant LN (2016+)</td>\n",
       "    </tr>\n",
       "    <tr>\n",
       "      <th>142</th>\n",
       "      <td>METSDXO</td>\n",
       "      <td>Mets at DX-Other (2016+)</td>\n",
       "    </tr>\n",
       "  </tbody>\n",
       "</table>\n",
       "<p>143 rows × 2 columns</p>\n",
       "</div>"
      ],
      "text/plain": [
       "                  sas                                             naaccr\n",
       "0            PUBCSNUM                                         Patient ID\n",
       "1                 REG                                      SEER registry\n",
       "2            MAR_STAT                        Marital status at diagnosis\n",
       "3              RACE1V                                     Race/ethnicity\n",
       "4              NHIADE                           NHIA Derived Hisp Origin\n",
       "5                 SEX                                                Sex\n",
       "6              AGE_DX                                   Age at diagnosis\n",
       "7             YR_BRTH                                      Year of birth\n",
       "8             SEQ_NUM                                    Sequence number\n",
       "9            MDXRECMP                                 Month of diagnosis\n",
       "10            YEAR_DX                                  Year of diagnosis\n",
       "11           PRIMSITE                       Primary site ICD-O-2 (1973+)\n",
       "12            LATERAL                                         Laterality\n",
       "13            HISTO2V                            Histologic Type ICD-O-2\n",
       "14             BEHO2V                              Behavior Code ICD-O-2\n",
       "15            HISTO3V                            Histologic Type ICD-O-3\n",
       "16             BEHO3V                              Behavior code ICD-O-3\n",
       "17              GRADE                                              Grade\n",
       "18            DX_CONF                            Diagnostic confirmation\n",
       "19           REPT_SRC                           Type of reporting source\n",
       "20           EOD10_SZ                              EOD 10 - size (1988+)\n",
       "21           EOD10_EX                                 EOD 10 - extension\n",
       "22           EOD10_PE                            EOD 10 - path extension\n",
       "23           EOD10_ND                                EOD 10 - lymph node\n",
       "24           EOD10_PN             EOD 10 - positive lymph nodes examined\n",
       "25           EOD10_NE            EOD 10 - number of lymph nodes examined\n",
       "26              EOD13                                  EOD--old 13 digit\n",
       "27               EOD2                                   EOD--old 2 digit\n",
       "28               EOD4                                   EOD--old 4 digit\n",
       "29           EOD_CODE                              Coding system for EOD\n",
       "..                ...                                                ...\n",
       "113      ADJTM_6VALUE                        Adjusted AJCC 6th T (1988+)\n",
       "114      ADJNM_6VALUE                        Adjusted AJCC 6th N (1988+)\n",
       "115       ADJM_6VALUE                        Adjusted AJCC 6th M (1988+)\n",
       "116        ADJAJCCSTG                    Adjusted AJCC 6th Stage (1988+)\n",
       "117           CS7SITE                          CS Site-Specific Factor 7\n",
       "118           CS9SITE                          CS Site-specific Factor 9\n",
       "119          CS12SITE                         CS Site-Specific Factor 12\n",
       "120              HER2                        Derived HER2 Recode (2010+)\n",
       "121          BRST_SUB                             Breast Subtype (2010+)\n",
       "122          ANNARBOR                 Lymphoma - Ann Arbor Stage (1983+)\n",
       "123     SCMETSDXB_PUB              SEER Combined Mets at DX-bone (2010+)\n",
       "124    SCMETSDXBR_PUB             SEER Combined Mets at DX-brain (2010+)\n",
       "125   SCMETSDXLIV_PUB             SEER Combined Mets at DX-liver (2010+)\n",
       "126  SCMETSDXLUNG_PUB              SEER Combined Mets at DX-lung (2010+)\n",
       "127           T_VALUE            T value - based on AJCC 3rd (1988-2003)\n",
       "128           N_VALUE            N value - based on AJCC 3rd (1988-2003)\n",
       "129           M_VALUE            M value - based on AJCC 3rd (1988-2003)\n",
       "130        MALIGCOUNT  Total number of in situ/malignant tumors for p...\n",
       "131      BENBORDCOUNT  Total number of benign/borderline tumors for p...\n",
       "132           TUMSIZS                         Tumor Size Summary (2016+)\n",
       "133            DSRPSG                   Derived SEER Cmb Stg Grp (2016+)\n",
       "134            DASRCT                    Derived SEER Combined T (2016+)\n",
       "135            DASRCN                    Derived SEER Combined N (2016+)\n",
       "136            DASRCM                    Derived SEER Combined M (2016+)\n",
       "137           DASRCTS                Derived SEER Combined T Src (2016+)\n",
       "138           DASRCNS                Derived SEER Combined N Src (2016+)\n",
       "139           DASRCMS                Derived SEER Combined M Src (2016+)\n",
       "140          TNMEDNUM                         TNM Edition Number (2016+)\n",
       "141          METSDXLN                      Mets at DX-Distant LN (2016+)\n",
       "142           METSDXO                           Mets at DX-Other (2016+)\n",
       "\n",
       "[143 rows x 2 columns]"
      ]
     },
     "execution_count": 5,
     "metadata": {},
     "output_type": "execute_result"
    }
   ],
   "source": [
    "column_name_map_df = pd.read_csv(data_dir+'sas-to-naaccr-name.csv')\n",
    "column_name_map_df"
   ]
  },
  {
   "cell_type": "code",
   "execution_count": 6,
   "metadata": {},
   "outputs": [],
   "source": [
    "data_source = data_dir+'/raw_data_pickles/'\n",
    "all_data_files = [x for x in os.listdir(data_source) if x != '.DS_Store']"
   ]
  },
  {
   "cell_type": "markdown",
   "metadata": {},
   "source": [
    "#### Time frame\n",
    "Confirm that time frame is from 1975 to 2016."
   ]
  },
  {
   "cell_type": "code",
   "execution_count": 7,
   "metadata": {},
   "outputs": [
    {
     "name": "stdout",
     "output_type": "stream",
     "text": [
      "Earliest year on record: 1975\n",
      "Latest year on record: 2016\n"
     ]
    }
   ],
   "source": [
    "min_year = float('inf')\n",
    "max_year = float('-inf')\n",
    "\n",
    "for data_file in all_data_files:\n",
    "    \n",
    "    df = pd.read_pickle(data_source+data_file)\n",
    "    \n",
    "    years = df.YEAR_DX.astype(int)\n",
    "    if min(years) < min_year:\n",
    "        min_year = min(years)\n",
    "    if max(years) > max_year:\n",
    "        max_year = max(years)\n",
    "        \n",
    "print(\"Earliest year on record:\", min_year)\n",
    "print(\"Latest year on record:\", max_year)"
   ]
  },
  {
   "cell_type": "markdown",
   "metadata": {},
   "source": [
    "#### Number of records"
   ]
  },
  {
   "cell_type": "code",
   "execution_count": 8,
   "metadata": {},
   "outputs": [
    {
     "name": "stdout",
     "output_type": "stream",
     "text": [
      "Number of records: 840666\n"
     ]
    }
   ],
   "source": [
    "total_num_records = 0\n",
    "\n",
    "for data_file in all_data_files:\n",
    "    \n",
    "    df = pd.read_pickle(data_source+data_file)\n",
    "    total_num_records += df.shape[0]\n",
    "    \n",
    "print(\"Number of records:\", total_num_records)"
   ]
  },
  {
   "cell_type": "markdown",
   "metadata": {},
   "source": [
    "#### Number of datapoints"
   ]
  },
  {
   "cell_type": "code",
   "execution_count": 9,
   "metadata": {},
   "outputs": [
    {
     "name": "stdout",
     "output_type": "stream",
     "text": [
      "Number of datapoints/columns: 143\n"
     ]
    }
   ],
   "source": [
    "print(\"Number of datapoints/columns:\", len(pd.read_pickle(data_source+all_data_files[0]).columns))"
   ]
  },
  {
   "cell_type": "markdown",
   "metadata": {},
   "source": [
    "<a id=\"state-county\"></a>\n",
    "## 4. Incidence by state and by county\n",
    "Tally the raw number of diagnoses from 1975-2016 in each county, state and state-county pair.\n",
    "\n",
    "> **`ST_CNTY`** stores the state county code (first two digist represent state, last 3 represent county)"
   ]
  },
  {
   "cell_type": "code",
   "execution_count": 10,
   "metadata": {},
   "outputs": [
    {
     "name": "stdout",
     "output_type": "stream",
     "text": [
      "files read (out of 901): 0 50 100 150 200 250 300 350 400 450 500 550 600 650 700 750 800 850 900 "
     ]
    }
   ],
   "source": [
    "state_counts = {'zero':0} #dummy value to ensure type match\n",
    "county_counts = {'zero':0}\n",
    "state_county_counts = {'zero':0}\n",
    "\n",
    "print('files read (out of ' + str(len(all_data_files)) + '):', end=\" \")\n",
    "file_count = 0\n",
    "\n",
    "for data_file in all_data_files:\n",
    "    \n",
    "    df = pd.read_pickle(data_source+data_file)\n",
    "    \n",
    "    sc_codes = list(df.ST_CNTY)\n",
    "    states = [x[:2] for x in sc_codes]\n",
    "    counties = [x[2:] for x in sc_codes]\n",
    "    state_counties = [x for x in sc_codes]\n",
    "   \n",
    "    Counter.update(state_counts, Counter(states))\n",
    "    Counter.update(county_counts, Counter(counties))\n",
    "    Counter.update(state_county_counts, Counter(state_counties))\n",
    "    \n",
    "    if file_count%50==0:\n",
    "        print(file_count, end=\" \")\n",
    "        \n",
    "    file_count += 1"
   ]
  },
  {
   "cell_type": "code",
   "execution_count": 11,
   "metadata": {},
   "outputs": [
    {
     "data": {
      "text/plain": [
       "0"
      ]
     },
     "execution_count": 11,
     "metadata": {},
     "output_type": "execute_result"
    }
   ],
   "source": [
    "state_counts.pop('zero')\n",
    "county_counts.pop('zero')\n",
    "state_county_counts.pop('zero')"
   ]
  },
  {
   "cell_type": "code",
   "execution_count": 12,
   "metadata": {},
   "outputs": [
    {
     "name": "stdout",
     "output_type": "stream",
     "text": [
      "Connecticut\n",
      "New Mexico\n",
      "Washington\n",
      "Hawaii\n",
      "Georgia\n",
      "California\n",
      "Michigan\n",
      "Utah\n",
      "Iowa\n"
     ]
    }
   ],
   "source": [
    "for s_code in state_counts:\n",
    "    print(us.states.lookup(s_code))"
   ]
  },
  {
   "cell_type": "code",
   "execution_count": 13,
   "metadata": {},
   "outputs": [],
   "source": [
    "state_counts_df = pd.DataFrame(pd.Series(state_counts))\n",
    "state_counts_df = state_counts_df.reset_index()\n",
    "state_counts_df = state_counts_df.rename(columns={'index':'state_code', 0:'count'})\n",
    "state_counts_df = state_counts_df.sort_values(by='state_code')\n",
    "state_counts_df = state_counts_df.reset_index()\n",
    "state_counts_df = state_counts_df.drop('index', axis=1)"
   ]
  },
  {
   "cell_type": "code",
   "execution_count": 14,
   "metadata": {},
   "outputs": [
    {
     "data": {
      "text/html": [
       "<div>\n",
       "<style scoped>\n",
       "    .dataframe tbody tr th:only-of-type {\n",
       "        vertical-align: middle;\n",
       "    }\n",
       "\n",
       "    .dataframe tbody tr th {\n",
       "        vertical-align: top;\n",
       "    }\n",
       "\n",
       "    .dataframe thead th {\n",
       "        text-align: right;\n",
       "    }\n",
       "</style>\n",
       "<table border=\"1\" class=\"dataframe\">\n",
       "  <thead>\n",
       "    <tr style=\"text-align: right;\">\n",
       "      <th></th>\n",
       "      <th>state_code</th>\n",
       "      <th>count</th>\n",
       "    </tr>\n",
       "  </thead>\n",
       "  <tbody>\n",
       "    <tr>\n",
       "      <th>0</th>\n",
       "      <td>06</td>\n",
       "      <td>137103</td>\n",
       "    </tr>\n",
       "    <tr>\n",
       "      <th>5</th>\n",
       "      <td>26</td>\n",
       "      <td>136820</td>\n",
       "    </tr>\n",
       "    <tr>\n",
       "      <th>1</th>\n",
       "      <td>09</td>\n",
       "      <td>133094</td>\n",
       "    </tr>\n",
       "    <tr>\n",
       "      <th>8</th>\n",
       "      <td>53</td>\n",
       "      <td>132267</td>\n",
       "    </tr>\n",
       "    <tr>\n",
       "      <th>4</th>\n",
       "      <td>19</td>\n",
       "      <td>98470</td>\n",
       "    </tr>\n",
       "    <tr>\n",
       "      <th>2</th>\n",
       "      <td>13</td>\n",
       "      <td>76660</td>\n",
       "    </tr>\n",
       "    <tr>\n",
       "      <th>6</th>\n",
       "      <td>35</td>\n",
       "      <td>45262</td>\n",
       "    </tr>\n",
       "    <tr>\n",
       "      <th>7</th>\n",
       "      <td>49</td>\n",
       "      <td>44103</td>\n",
       "    </tr>\n",
       "    <tr>\n",
       "      <th>3</th>\n",
       "      <td>15</td>\n",
       "      <td>36887</td>\n",
       "    </tr>\n",
       "  </tbody>\n",
       "</table>\n",
       "</div>"
      ],
      "text/plain": [
       "  state_code   count\n",
       "0         06  137103\n",
       "5         26  136820\n",
       "1         09  133094\n",
       "8         53  132267\n",
       "4         19   98470\n",
       "2         13   76660\n",
       "6         35   45262\n",
       "7         49   44103\n",
       "3         15   36887"
      ]
     },
     "execution_count": 14,
     "metadata": {},
     "output_type": "execute_result"
    }
   ],
   "source": [
    "state_counts_df = pd.read_csv(data_dir+'state_counts.csv')\n",
    "state_counts_df.iloc[0,0] = '06'\n",
    "state_counts_df.iloc[1,0] = '09'\n",
    "state_counts_df.state_code.astype(str)\n",
    "state_counts_df = state_counts_df.sort_values(by='count', ascending=False)\n",
    "state_counts_df"
   ]
  },
  {
   "cell_type": "code",
   "execution_count": 15,
   "metadata": {},
   "outputs": [
    {
     "name": "stdout",
     "output_type": "stream",
     "text": [
      "[<State:California>, <State:Michigan>, <State:Connecticut>, <State:Washington>, <State:Iowa>, <State:Georgia>, <State:New Mexico>, <State:Utah>, <State:Hawaii>]\n"
     ]
    }
   ],
   "source": [
    "state_labels = [us.states.lookup(str(x)) for x in state_counts_df.state_code]\n",
    "print(state_labels)"
   ]
  },
  {
   "cell_type": "code",
   "execution_count": 16,
   "metadata": {},
   "outputs": [],
   "source": [
    "state_labels_for_graph = state_labels.copy()\n",
    "state_labels_for_graph[2] = 'Conn.'"
   ]
  },
  {
   "cell_type": "code",
   "execution_count": 17,
   "metadata": {},
   "outputs": [
    {
     "data": {
      "image/png": "[encoded data removed]",
      "text/plain": [
       "<Figure size 864x432 with 1 Axes>"
      ]
     },
     "metadata": {
      "needs_background": "light"
     },
     "output_type": "display_data"
    }
   ],
   "source": [
    "### Create bar graph ###\n",
    "\n",
    "fig, ax = plt.subplots(figsize=(12,6))\n",
    "\n",
    "ax.bar(x=np.arange(0,state_counts_df.shape[0]), height=state_counts_df['count'].astype(float), color=color_palette[5], edgecolor=\"black\")\n",
    "ax.set_title('Number of breast cancer patients in each state included in dataset', fontsize=20)\n",
    "ax.set_ylabel('Number of patients', fontsize=18)\n",
    "ax.set_xlabel('State', fontsize=16)\n",
    "plt.xticks(ticks=np.arange(0, state_counts_df.shape[0]), labels=state_labels_for_graph)\n",
    "ax.tick_params(axis='both', which='major', labelsize=13)\n",
    "\n",
    "plt.savefig(\"bargraph-raw-counts-state.jpeg\")\n",
    "\n",
    "plt.show()"
   ]
  },
  {
   "cell_type": "code",
   "execution_count": 18,
   "metadata": {},
   "outputs": [
    {
     "data": {
      "text/plain": [
       "[39557045.0,\n",
       " 9995915.0,\n",
       " 3572665.0,\n",
       " 7535591.0,\n",
       " 3156145.0,\n",
       " 10519475.0,\n",
       " 2095428.0,\n",
       " 3161105.0,\n",
       " 1420491.0]"
      ]
     },
     "execution_count": 18,
     "metadata": {},
     "output_type": "execute_result"
    }
   ],
   "source": [
    "state_populations_df = pd.read_csv(data_dir+'state_populations.csv')\n",
    "state_populations_df = state_populations_df.set_index('State')\n",
    "state_populations = [float(state_populations_df.loc[str(s), '2018_population']) for s in state_labels]\n",
    "state_populations"
   ]
  },
  {
   "cell_type": "code",
   "execution_count": 19,
   "metadata": {},
   "outputs": [
    {
     "data": {
      "image/png": "[encoded data removed]",
      "text/plain": [
       "<Figure size 864x432 with 1 Axes>"
      ]
     },
     "metadata": {
      "needs_background": "light"
     },
     "output_type": "display_data"
    }
   ],
   "source": [
    "### Create bar graph normalized by state population ###\n",
    "\n",
    "fig, ax = plt.subplots(figsize=(12,6))\n",
    "\n",
    "heights = np.array(state_counts_df['count'].astype(float))/np.array(state_populations)\n",
    "\n",
    "ax.bar(x=np.arange(0,state_counts_df.shape[0]), height=heights, color=color_palette[5], edgecolor=\"black\")\n",
    "ax.set_title('Number of breast cancer patients in each state included in dataset\\n(normalized)', fontsize=20)\n",
    "ax.set_ylabel('Proportion of patients', fontsize=18)\n",
    "ax.set_xlabel('State', fontsize=16)\n",
    "plt.xticks(ticks=np.arange(0, state_counts_df.shape[0]), labels=state_labels_for_graph)\n",
    "ax.tick_params(axis='both', which='major', labelsize=13)\n",
    "\n",
    "plt.savefig(\"bargraph-normalized-counts-state.jpeg\")\n",
    "\n",
    "plt.show()"
   ]
  },
  {
   "cell_type": "markdown",
   "metadata": {},
   "source": [
    "There are many more incidences of breast cancer in Connecticut than in California for example. Is this because there *is* actually a higher incidence rate in Connecticut or whether incidents go unreported in California? Rate might be lower in larger states because of the fact that there is a single SEER site in each state regardless of size."
   ]
  },
  {
   "cell_type": "code",
   "execution_count": 20,
   "metadata": {},
   "outputs": [],
   "source": [
    "county_counts_df = pd.DataFrame(pd.Series(county_counts))\n",
    "county_counts_df = county_counts_df.reset_index()\n",
    "county_counts_df = county_counts_df.rename(columns={'index':'county_code', 0:'count'})\n",
    "county_counts_df = county_counts_df.sort_values(by='county_code')\n",
    "county_counts_df = county_counts_df.reset_index()\n",
    "county_counts_df = county_counts_df.drop('index', axis=1)"
   ]
  },
  {
   "cell_type": "code",
   "execution_count": 21,
   "metadata": {},
   "outputs": [],
   "source": [
    "county_counts_df.to_csv(data_dir+'county_counts.csv', index=False)"
   ]
  },
  {
   "cell_type": "code",
   "execution_count": 22,
   "metadata": {},
   "outputs": [],
   "source": [
    "state_county_counts_df = pd.DataFrame(pd.Series(state_county_counts))\n",
    "state_county_counts_df = state_county_counts_df.reset_index()\n",
    "state_county_counts_df = state_county_counts_df.rename(columns={'index':'state_county_code', 0:'count'})\n",
    "state_county_counts_df = state_county_counts_df.sort_values(by='state_county_code')\n",
    "state_county_counts_df = state_county_counts_df.reset_index()\n",
    "state_county_counts_df = state_county_counts_df.drop('index', axis=1)"
   ]
  },
  {
   "cell_type": "code",
   "execution_count": 23,
   "metadata": {},
   "outputs": [],
   "source": [
    "for i in state_county_counts_df.index:\n",
    "    if state_county_counts_df.loc[i, 'state_county_code'][0] == '0':\n",
    "        state_county_counts_df.loc[i, 'state_county_code'] = state_county_counts_df.loc[i, 'state_county_code'][1:]"
   ]
  },
  {
   "cell_type": "code",
   "execution_count": 24,
   "metadata": {},
   "outputs": [],
   "source": [
    "state_county_counts_df.to_csv(data_dir+'state_county_counts.csv', index=False)"
   ]
  },
  {
   "cell_type": "markdown",
   "metadata": {},
   "source": [
    "#### Exploring missing values"
   ]
  },
  {
   "cell_type": "code",
   "execution_count": 25,
   "metadata": {},
   "outputs": [
    {
     "name": "stdout",
     "output_type": "stream",
     "text": [
      "files read (out of 901): 0 50 100 150 200 250 300 350 400 450 500 550 600 650 700 750 800 850 900 "
     ]
    }
   ],
   "source": [
    "df = pd.read_pickle(data_source+all_data_files[0])\n",
    "\n",
    "missing_vals_df = pd.DataFrame(columns=[\"datapoint\", \"missing_count\"])\n",
    "missing_vals_df = missing_vals_df.set_index(\"datapoint\")\n",
    "for c in df.columns:\n",
    "    missing_vals_df.loc[c, \"missing_count\"] = 0\n",
    "\n",
    "    \n",
    "print('files read (out of ' + str(len(all_data_files)) + '):', end=\" \")\n",
    "file_count = 0\n",
    "\n",
    "for data_file in all_data_files:\n",
    "    \n",
    "    df = pd.read_pickle(data_source+data_file)\n",
    "    \n",
    "    for col in df.columns:\n",
    "        cur_count = missing_vals_df.loc[col, \"missing_count\"] \n",
    "        for val in df[col]:\n",
    "            if type(val) != str:\n",
    "                if np.isnan(val):\n",
    "                    cur_count += 1\n",
    "        missing_vals_df.loc[col, \"missing_count\"] = cur_count \n",
    "        \n",
    "    if file_count%50==0:\n",
    "        print(file_count, end=\" \")\n",
    "        \n",
    "    file_count += 1\n",
    "        \n",
    "missing_vals_df = missing_vals_df.sort_values(by=\"missing_count\", ascending=False)"
   ]
  },
  {
   "cell_type": "code",
   "execution_count": 26,
   "metadata": {},
   "outputs": [
    {
     "data": {
      "text/html": [
       "<div>\n",
       "<style scoped>\n",
       "    .dataframe tbody tr th:only-of-type {\n",
       "        vertical-align: middle;\n",
       "    }\n",
       "\n",
       "    .dataframe tbody tr th {\n",
       "        vertical-align: top;\n",
       "    }\n",
       "\n",
       "    .dataframe thead th {\n",
       "        text-align: right;\n",
       "    }\n",
       "</style>\n",
       "<table border=\"1\" class=\"dataframe\">\n",
       "  <thead>\n",
       "    <tr style=\"text-align: right;\">\n",
       "      <th></th>\n",
       "      <th>missing_count</th>\n",
       "    </tr>\n",
       "    <tr>\n",
       "      <th>datapoint</th>\n",
       "      <th></th>\n",
       "    </tr>\n",
       "  </thead>\n",
       "  <tbody>\n",
       "    <tr>\n",
       "      <th>CS10SITE</th>\n",
       "      <td>840666.0</td>\n",
       "    </tr>\n",
       "    <tr>\n",
       "      <th>VASINV</th>\n",
       "      <td>840666.0</td>\n",
       "    </tr>\n",
       "    <tr>\n",
       "      <th>CS11SITE</th>\n",
       "      <td>840666.0</td>\n",
       "    </tr>\n",
       "    <tr>\n",
       "      <th>CS13SITE</th>\n",
       "      <td>840666.0</td>\n",
       "    </tr>\n",
       "    <tr>\n",
       "      <th>NHIADE</th>\n",
       "      <td>840666.0</td>\n",
       "    </tr>\n",
       "  </tbody>\n",
       "</table>\n",
       "</div>"
      ],
      "text/plain": [
       "           missing_count\n",
       "datapoint               \n",
       "CS10SITE        840666.0\n",
       "VASINV          840666.0\n",
       "CS11SITE        840666.0\n",
       "CS13SITE        840666.0\n",
       "NHIADE          840666.0"
      ]
     },
     "execution_count": 26,
     "metadata": {},
     "output_type": "execute_result"
    }
   ],
   "source": [
    "missing_vals_df.to_csv('col_num_missing_values.csv')\n",
    "missing_vals_df.head()"
   ]
  },
  {
   "cell_type": "code",
   "execution_count": 27,
   "metadata": {},
   "outputs": [],
   "source": [
    "non_zero_missing_df = missing_vals_df[missing_vals_df.missing_count > 0.1]"
   ]
  },
  {
   "cell_type": "code",
   "execution_count": 28,
   "metadata": {
    "scrolled": false
   },
   "outputs": [
    {
     "data": {
      "image/png": "[encoded data removed]",
      "text/plain": [
       "<Figure size 864x432 with 1 Axes>"
      ]
     },
     "metadata": {
      "needs_background": "light"
     },
     "output_type": "display_data"
    }
   ],
   "source": [
    "### Create bar graph of missing values ###\n",
    "\n",
    "fig, ax = plt.subplots(figsize=(12,6))\n",
    "\n",
    "ax.hist(non_zero_missing_df.missing_count, color=color_palette[5], edgecolor=\"black\")\n",
    "ax.set_title('Distribution of number of missing values for each data point', fontsize=20)\n",
    "ax.set_ylabel('Number of data points', fontsize=18)\n",
    "ax.set_xlabel('Number of missing values', fontsize=16)\n",
    "\n",
    "plt.savefig(\"num-missing-values.jpeg\")\n",
    "\n",
    "plt.show()"
   ]
  },
  {
   "cell_type": "code",
   "execution_count": 29,
   "metadata": {},
   "outputs": [],
   "source": [
    "column_name_map_df = column_name_map_df.set_index(\"sas\")"
   ]
  },
  {
   "cell_type": "code",
   "execution_count": 30,
   "metadata": {},
   "outputs": [
    {
     "name": "stdout",
     "output_type": "stream",
     "text": [
      "['CS Site-Specific Factor 10', 'Lymph-vascular Invasion (2004+)', 'CS Site-Specific Factor 11', 'CS Site-Specific Factor 13', 'NHIA Derived Hisp Origin', 'Cs Site-specific Factor 8', 'CS Site-Specific Factor 12', 'CS Site-specific Factor 9', 'EOD 10 - path extension', 'CS Site-Specific Factor 16', 'EOD--old 2 digit', 'SEER Summary Stage 2000 2000 (2001-2003)', 'EOD--old 4 digit', 'EOD--old 13 digit', 'Number of lymph nodes', 'Scope of lymph node surgery 98-02', 'Surgery to other sites', 'SEER Summary Stage 1977 (1995-2000)', 'Derived AJCC T 7th ed', 'Derived AJCC N 7th ed', 'Derived AJCC M 7th ed', 'Derived AJCC 7 Stage Group', 'SEER Combined Mets at DX-liver (2010+)', 'CS Site-Specific Factor 15', 'CS Site-Specific Factor 7', 'SEER Combined Mets at DX-bone (2010+)', 'SEER Combined Mets at DX-brain (2010+)', 'SEER Combined Mets at DX-lung (2010+)', 'Insurance Recode (2007+)', 'CS Mets Eval', 'CS EXT/Size Eval', 'CS Nodes Eval', 'Tumor marker 2', 'Tumor marker 1', 'CS Tumor size', 'Derived AJCC T', 'Derived AJCC Stage Group', 'Derived SS1977', 'CS Version Input Original', 'Derived AJCC M', 'CS Mets at DX', 'CS Lymph Nodes', 'CS Extension', 'CS Version Derived', 'CS Version Input Current', 'Derived AJCC N', 'AJCC stage 3rd edition (1988+)', 'M value - based on AJCC 3rd (1988-2003)', 'T value - based on AJCC 3rd (1988-2003)', 'EOD 10 - size (1988+)', 'EOD 10 - extension', 'EOD 10 - lymph node', 'SEER modified AJCC stage 3rd ed (1988+)', 'N value - based on AJCC 3rd (1988-2003)', 'Site specific surgery (1983-1997)', 'SEER Combined Summary Stage 2000 (2004+)', 'CS Site-Specific Factor 3', 'CS Site-Specific Factor 1', 'CS Site-Specific Factor 25', 'CS Site-Specific Factor 6', 'CS Site-Specific Factor 5', 'CS Site-Specific Factor 4', 'CS Site-Specific Factor 2', 'RX Summ--surg oth reg/dis', 'RX Summ--scope reg LN sur 2003+', 'Tumor marker 3', 'Coding system for EOD', 'Historic SSG 2000 Stage', 'RX Summ--surg prim site', 'Adjusted AJCC 6th Stage (1988+)', 'Adjusted AJCC 6th M (1988+)', 'Adjusted AJCC 6th N (1988+)', 'Adjusted AJCC 6th T (1988+)', 'EOD 10 - positive lymph nodes examined', 'EOD 10 - number of lymph nodes examined', 'Lymphoma subtype recode/WHO 2008', 'IHS link', 'Derived SEER Cmb Stg Grp (2016+)', 'Derived SEER Combined T (2016+)', 'SEER historic stage A', 'Derived SEER Combined M (2016+)', 'Derived SEER Combined N (2016+)', 'Recode ICD-O-2 to 9', 'Derived SEER Combined M Src (2016+)', 'Derived SEER Combined N Src (2016+)', 'Derived SEER Combined T Src (2016+)', 'Year of birth']\n"
     ]
    }
   ],
   "source": [
    "print([column_name_map_df.loc[c, \"naaccr\"] for c in non_zero_missing_df.index])"
   ]
  },
  {
   "cell_type": "code",
   "execution_count": 44,
   "metadata": {},
   "outputs": [
    {
     "data": {
      "text/plain": [
       "87"
      ]
     },
     "execution_count": 44,
     "metadata": {},
     "output_type": "execute_result"
    }
   ],
   "source": [
    "len([column_name_map_df.loc[c, \"naaccr\"] for c in non_zero_missing_df.index])"
   ]
  },
  {
   "cell_type": "markdown",
   "metadata": {},
   "source": [
    "**Check if there are any column names that we care about for our analysis which have a high number of missing values**: none."
   ]
  },
  {
   "cell_type": "markdown",
   "metadata": {},
   "source": [
    "<a id=\"race\"></a>\n",
    "## 5. *Exploring an aspect a skeptic would worry about*: Incidence by race group\n",
    "\n",
    "A skeptic may be concerned that since data come only from SEER registries in specific states, that the data are not a good representation of the entire US population. Most importantly, a skeptic may worry that cases are well-reported in one race group but under-reported in another race group. And this will impact any study on the racial disparities in breast cancer cases.\n",
    "\n",
    "So I will investigate the SEER datasets breast cancer incidence coverage by race group.\n",
    "\n",
    "> Race group is identified by a code in the **`RACEIV`** column."
   ]
  },
  {
   "cell_type": "code",
   "execution_count": 31,
   "metadata": {},
   "outputs": [
    {
     "name": "stdout",
     "output_type": "stream",
     "text": [
      "files read (out of 901): 0 50 100 150 200 250 300 350 400 450 500 550 600 650 700 750 800 850 900 "
     ]
    }
   ],
   "source": [
    "race_counts = {'zero':0} #dummy value to ensure type match\n",
    "\n",
    "print('files read (out of ' + str(len(all_data_files)) + '):', end=\" \")\n",
    "file_count = 0\n",
    "\n",
    "for data_file in all_data_files:\n",
    "    \n",
    "    df = pd.read_pickle(data_source+data_file)\n",
    "    \n",
    "    race_codes = list(df.RACE1V)\n",
    "    \n",
    "    Counter.update(race_counts, Counter(race_codes))\n",
    "    \n",
    "    if file_count%50==0:\n",
    "        print(file_count, end=\" \")\n",
    "        \n",
    "    file_count += 1"
   ]
  },
  {
   "cell_type": "code",
   "execution_count": 32,
   "metadata": {},
   "outputs": [
    {
     "data": {
      "text/plain": [
       "0"
      ]
     },
     "execution_count": 32,
     "metadata": {},
     "output_type": "execute_result"
    }
   ],
   "source": [
    "race_counts.pop('zero')"
   ]
  },
  {
   "cell_type": "code",
   "execution_count": 33,
   "metadata": {},
   "outputs": [],
   "source": [
    "race_counts_df = pd.DataFrame(pd.Series(race_counts))\n",
    "race_counts_df = race_counts_df.reset_index()\n",
    "race_counts_df = race_counts_df.rename(columns={'index':'race_code', 0:'count'})\n",
    "race_counts_df = race_counts_df.sort_values(by='race_code')\n",
    "race_counts_df = race_counts_df.reset_index()\n",
    "race_counts_df = race_counts_df.drop('index', axis=1)\n",
    "race_counts_df.to_csv(data_dir+'race_counts.csv', index=False)"
   ]
  },
  {
   "cell_type": "code",
   "execution_count": 34,
   "metadata": {},
   "outputs": [
    {
     "data": {
      "text/html": [
       "<div>\n",
       "<style scoped>\n",
       "    .dataframe tbody tr th:only-of-type {\n",
       "        vertical-align: middle;\n",
       "    }\n",
       "\n",
       "    .dataframe tbody tr th {\n",
       "        vertical-align: top;\n",
       "    }\n",
       "\n",
       "    .dataframe thead th {\n",
       "        text-align: right;\n",
       "    }\n",
       "</style>\n",
       "<table border=\"1\" class=\"dataframe\">\n",
       "  <thead>\n",
       "    <tr style=\"text-align: right;\">\n",
       "      <th></th>\n",
       "      <th>count</th>\n",
       "    </tr>\n",
       "    <tr>\n",
       "      <th>race_code</th>\n",
       "      <th></th>\n",
       "    </tr>\n",
       "  </thead>\n",
       "  <tbody>\n",
       "    <tr>\n",
       "      <th>1</th>\n",
       "      <td>697456</td>\n",
       "    </tr>\n",
       "    <tr>\n",
       "      <th>2</th>\n",
       "      <td>76032</td>\n",
       "    </tr>\n",
       "    <tr>\n",
       "      <th>3</th>\n",
       "      <td>4099</td>\n",
       "    </tr>\n",
       "    <tr>\n",
       "      <th>4</th>\n",
       "      <td>12434</td>\n",
       "    </tr>\n",
       "    <tr>\n",
       "      <th>5</th>\n",
       "      <td>14662</td>\n",
       "    </tr>\n",
       "  </tbody>\n",
       "</table>\n",
       "</div>"
      ],
      "text/plain": [
       "            count\n",
       "race_code        \n",
       "1          697456\n",
       "2           76032\n",
       "3            4099\n",
       "4           12434\n",
       "5           14662"
      ]
     },
     "execution_count": 34,
     "metadata": {},
     "output_type": "execute_result"
    }
   ],
   "source": [
    "race_counts_df = pd.read_csv(data_dir+'race_counts.csv')\n",
    "race_counts_df.set_index('race_code', inplace=True)\n",
    "race_counts_df.head()"
   ]
  },
  {
   "cell_type": "code",
   "execution_count": 35,
   "metadata": {},
   "outputs": [
    {
     "data": {
      "image/png": "[encoded data removed]",
      "text/plain": [
       "<Figure size 864x432 with 1 Axes>"
      ]
     },
     "metadata": {
      "needs_background": "light"
     },
     "output_type": "display_data"
    }
   ],
   "source": [
    "### Create bar graph ###\n",
    "\n",
    "fig, ax = plt.subplots(figsize=(12,6))\n",
    "\n",
    "ax.bar(x=np.arange(0,len(race_counts)), height=race_counts_df['count'].astype(float), color=color_palette[5], edgecolor=\"black\")\n",
    "ax.set_title('Number of breast cancer patients in each race/ethnic group', fontsize=20)\n",
    "ax.set_ylabel('Number of patients', fontsize=18)\n",
    "ax.set_xlabel('Race/ethnic group', fontsize=16)\n",
    "plt.xticks(ticks=np.arange(0, len(race_counts)), labels=list(race_counts_df.index))\n",
    "ax.tick_params(axis='both', which='major', labelsize=13)\n",
    "\n",
    "plt.savefig(\"bargraph-raw-counts-race-group.jpeg\")\n",
    "\n",
    "plt.show()"
   ]
  },
  {
   "cell_type": "markdown",
   "metadata": {},
   "source": [
    "The above graph appears to be extremely biased towards the white race group. A skeptic may worry that breast cancer is being severely under-reported in other race groups.\n",
    "\n",
    "We do, however, have to take into account the make-up of the US population. We should normalize each of these breast cancer counts in each race group by the total number of people in that race group.\n",
    "\n",
    "The [U.S. Census Bureau](https://www.census.gov/quickfacts/fact/table/US#) will be the best source of information for this. Unfortunately, the census considers many fewer race groups than the SEER dataset does. I will therefore have to slot the multiple SEER race groups into each Census Bureau category (e.g. the Korean SEER category will form part of the Asian Census Bureau category).\n",
    "\n",
    "We will focus on the following race groups: White, Black/African-American, American Indian/Alaska Native, Asian and Native Hawaiian/other Pacific Islander. SEER individuals with a race recorded as *Other* (code 98) or *Unknown* (code 99) have been ignored."
   ]
  },
  {
   "cell_type": "code",
   "execution_count": 36,
   "metadata": {},
   "outputs": [
    {
     "data": {
      "text/html": [
       "<div>\n",
       "<style scoped>\n",
       "    .dataframe tbody tr th:only-of-type {\n",
       "        vertical-align: middle;\n",
       "    }\n",
       "\n",
       "    .dataframe tbody tr th {\n",
       "        vertical-align: top;\n",
       "    }\n",
       "\n",
       "    .dataframe thead th {\n",
       "        text-align: right;\n",
       "    }\n",
       "</style>\n",
       "<table border=\"1\" class=\"dataframe\">\n",
       "  <thead>\n",
       "    <tr style=\"text-align: right;\">\n",
       "      <th></th>\n",
       "      <th>percent_of_pop</th>\n",
       "    </tr>\n",
       "    <tr>\n",
       "      <th>race</th>\n",
       "      <th></th>\n",
       "    </tr>\n",
       "  </thead>\n",
       "  <tbody>\n",
       "    <tr>\n",
       "      <th>white</th>\n",
       "      <td>0.765</td>\n",
       "    </tr>\n",
       "    <tr>\n",
       "      <th>black/african-american</th>\n",
       "      <td>0.134</td>\n",
       "    </tr>\n",
       "    <tr>\n",
       "      <th>american-indian/alaska-native</th>\n",
       "      <td>0.013</td>\n",
       "    </tr>\n",
       "    <tr>\n",
       "      <th>asian</th>\n",
       "      <td>0.059</td>\n",
       "    </tr>\n",
       "    <tr>\n",
       "      <th>native-haiwaiian/other-pacific-islander</th>\n",
       "      <td>0.002</td>\n",
       "    </tr>\n",
       "    <tr>\n",
       "      <th>two/more races</th>\n",
       "      <td>0.027</td>\n",
       "    </tr>\n",
       "  </tbody>\n",
       "</table>\n",
       "</div>"
      ],
      "text/plain": [
       "                                         percent_of_pop\n",
       "race                                                   \n",
       "white                                             0.765\n",
       "black/african-american                            0.134\n",
       "american-indian/alaska-native                     0.013\n",
       "asian                                             0.059\n",
       "native-haiwaiian/other-pacific-islander           0.002\n",
       "two/more races                                    0.027"
      ]
     },
     "execution_count": 36,
     "metadata": {},
     "output_type": "execute_result"
    }
   ],
   "source": [
    "race_stats = pd.read_csv(data_dir+'census-race-stats.csv')\n",
    "race_stats = race_stats.set_index('race')\n",
    "race_stats"
   ]
  },
  {
   "cell_type": "code",
   "execution_count": 37,
   "metadata": {},
   "outputs": [],
   "source": [
    "pop = 327167434 #US population [from the US Census Bureau (link above)]"
   ]
  },
  {
   "cell_type": "code",
   "execution_count": 38,
   "metadata": {},
   "outputs": [
    {
     "data": {
      "text/plain": [
       "[250283087.01,\n",
       " 43840436.156,\n",
       " 4253176.642,\n",
       " 19302878.606000002,\n",
       " 654334.868,\n",
       " 8833520.718]"
      ]
     },
     "execution_count": 38,
     "metadata": {},
     "output_type": "execute_result"
    }
   ],
   "source": [
    "### Determine raw number of people in each race group according to census ### \n",
    "\n",
    "denoms = [race_stats.loc[r, 'percent_of_pop']*pop for r in race_stats.index]\n",
    "denoms"
   ]
  },
  {
   "cell_type": "code",
   "execution_count": 39,
   "metadata": {},
   "outputs": [],
   "source": [
    "### Combine SEER race groups into census race groups ###\n",
    "\n",
    "white = [1]\n",
    "black = [2]\n",
    "n_american = [3]\n",
    "asian = [i for i in range(4,9)] + [x for x in range(10,18)] + [x for x in range(20,23)] + \\\n",
    "[x for x in range(25,29)] + [x for x in range(30,33)] + [96]\n",
    "pacific = [97]"
   ]
  },
  {
   "cell_type": "code",
   "execution_count": 40,
   "metadata": {},
   "outputs": [],
   "source": [
    "### Tally counts of breast cancer cases in each race category ###\n",
    "\n",
    "counts = [0]*5\n",
    "\n",
    "for i in race_counts_df.index:\n",
    "    if i in white:\n",
    "        ix = 0\n",
    "    elif i in black:\n",
    "        ix = 1\n",
    "    elif i in n_american:\n",
    "        ix = 2\n",
    "    elif i in asian:\n",
    "        ix = 3\n",
    "    elif i in pacific:\n",
    "        ix = 4\n",
    "    else:\n",
    "        ix = -1\n",
    "        \n",
    "    if ix > -1:\n",
    "        counts[ix] += race_counts_df.loc[i, 'count']"
   ]
  },
  {
   "cell_type": "code",
   "execution_count": 41,
   "metadata": {},
   "outputs": [
    {
     "data": {
      "text/plain": [
       "[697456, 76032, 4099, 59351, 348]"
      ]
     },
     "execution_count": 41,
     "metadata": {},
     "output_type": "execute_result"
    }
   ],
   "source": [
    "counts"
   ]
  },
  {
   "cell_type": "code",
   "execution_count": 42,
   "metadata": {},
   "outputs": [
    {
     "data": {
      "text/plain": [
       "[0.0027866685213617064,\n",
       " 0.0017342893152214741,\n",
       " 0.0009637502377687515,\n",
       " 0.003074722750499589,\n",
       " 0.0005318377745384034]"
      ]
     },
     "execution_count": 42,
     "metadata": {},
     "output_type": "execute_result"
    }
   ],
   "source": [
    "### Calculate proportion of individuals with breast cancer in each race group ###\n",
    "\n",
    "props = []\n",
    "\n",
    "for i in range(len(counts)):\n",
    "    props.append(counts[i]/denoms[i])\n",
    "\n",
    "props"
   ]
  },
  {
   "cell_type": "code",
   "execution_count": 43,
   "metadata": {},
   "outputs": [
    {
     "data": {
      "image/png": "[encoded data removed]",
      "text/plain": [
       "<Figure size 864x432 with 1 Axes>"
      ]
     },
     "metadata": {
      "needs_background": "light"
     },
     "output_type": "display_data"
    }
   ],
   "source": [
    "### Create bar graph ###\n",
    "\n",
    "fig, ax = plt.subplots(figsize=(12,6))\n",
    "\n",
    "ax.bar(x=np.arange(0,len(counts)), height=props, color=color_palette[5], edgecolor=\"black\")\n",
    "ax.set_title('Proportion of individuals with breast cancer in each race/ethnic group', fontsize=20)\n",
    "ax.set_ylabel('Proportion of individuals', fontsize=18)\n",
    "ax.set_xlabel('Race/ethnic group', fontsize=16)\n",
    "race_groups = [\"White\", \"Black/African-\\nAmerican\", \"American Indian/\\nAlaska Native\", \"Asian\", \"Native Hawaiian/\\nother Pacific Islander\"]\n",
    "plt.xticks(ticks=np.arange(0, len(counts)), labels=race_groups)\n",
    "ax.tick_params(axis='both', which='major', labelsize=13)\n",
    "\n",
    "plt.savefig(\"bargraph-prop-race-group.jpeg\")\n",
    "\n",
    "plt.show()"
   ]
  },
  {
   "cell_type": "markdown",
   "metadata": {},
   "source": [
    "The above graph should hopefully substantially assuade a skeptic. The differences between breast cancer cases in each of these race groups are not nearly as stark as in the first graph, indicating that there is a relatively fair representation of breast cancer cases across all race groups. Even if every single breast cancer patient in the US was documented, the proportion of cases in each race group would not be equal because it is known that breast cancer, like many other diseases, has difference incidence rates in different populations ([CDC](https://www.cdc.gov/cancer/dcpc/research/articles/breast_cancer_rates_women.htm), [Cleveland Clinic](https://my.clevelandclinic.org/health/articles/10310-breast-cancer-facts-ethnicity--race), [NCBI](https://www.ncbi.nlm.nih.gov/pubmed/15224974))."
   ]
  },
  {
   "cell_type": "code",
   "execution_count": null,
   "metadata": {},
   "outputs": [],
   "source": []
  }
 ],
 "metadata": {
  "kernelspec": {
   "display_name": "Python 3",
   "language": "python",
   "name": "python3"
  },
  "language_info": {
   "codemirror_mode": {
    "name": "ipython",
    "version": 3
   },
   "file_extension": ".py",
   "mimetype": "text/x-python",
   "name": "python",
   "nbconvert_exporter": "python",
   "pygments_lexer": "ipython3",
   "version": "3.7.3"
  }
 },
 "nbformat": 4,
 "nbformat_minor": 2
}
